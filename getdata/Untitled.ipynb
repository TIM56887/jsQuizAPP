{
 "cells": [
  {
   "cell_type": "code",
   "execution_count": 1,
   "id": "474f065e",
   "metadata": {},
   "outputs": [],
   "source": [
    "import requests\n",
    "from bs4 import BeautifulSoup"
   ]
  },
  {
   "cell_type": "code",
   "execution_count": 2,
   "id": "0c1620ba",
   "metadata": {},
   "outputs": [],
   "source": [
    "url ='https://github.com/lydiahallie/javascript-questions/blob/master/zh-TW/README_zh-TW.md'\n",
    "response = requests.get(url)\n",
    "soup = BeautifulSoup(response.text, 'html.parser')\n",
    "    "
   ]
  },
  {
   "cell_type": "code",
   "execution_count": 3,
   "id": "7379e2f3",
   "metadata": {},
   "outputs": [],
   "source": [
    "data = soup.find_all('article', class_='markdown-body')"
   ]
  },
  {
   "cell_type": "code",
   "execution_count": 4,
   "id": "7469d827",
   "metadata": {},
   "outputs": [
    {
     "ename": "IndexError",
     "evalue": "list index out of range",
     "output_type": "error",
     "traceback": [
      "\u001b[1;31m---------------------------------------------------------------------------\u001b[0m",
      "\u001b[1;31mIndexError\u001b[0m                                Traceback (most recent call last)",
      "Cell \u001b[1;32mIn[4], line 1\u001b[0m\n\u001b[1;32m----> 1\u001b[0m question \u001b[38;5;241m=\u001b[39m \u001b[43mdata\u001b[49m\u001b[43m[\u001b[49m\u001b[38;5;241;43m0\u001b[39;49m\u001b[43m]\u001b[49m\u001b[38;5;241m.\u001b[39mfind_all(\u001b[38;5;124m'\u001b[39m\u001b[38;5;124mh6\u001b[39m\u001b[38;5;124m'\u001b[39m)\n",
      "\u001b[1;31mIndexError\u001b[0m: list index out of range"
     ]
    }
   ],
   "source": [
    "question = data[0].find_all('h6')"
   ]
  },
  {
   "cell_type": "code",
   "execution_count": null,
   "id": "a6462e67",
   "metadata": {},
   "outputs": [],
   "source": [
    "question = [x.text for x in question]"
   ]
  },
  {
   "cell_type": "code",
   "execution_count": null,
   "id": "bb4df6f4",
   "metadata": {},
   "outputs": [],
   "source": [
    "question = [text.replace(\"'\",\"''\") for text in question]"
   ]
  },
  {
   "cell_type": "code",
   "execution_count": null,
   "id": "917cad31",
   "metadata": {},
   "outputs": [],
   "source": [
    "question_code = []\n",
    "for h6_tag in data[0].find_all('h6'):\n",
    "    # 找到 h6 标签后的下一个兄弟元素\n",
    "    next_sibling = h6_tag.find_next_sibling()\n",
    "    if next_sibling is not None:\n",
    "        # 将 div 元素加入到列表中\n",
    "        question_code.append(next_sibling)\n",
    "\n",
    "len(question_code)\n",
    "\n"
   ]
  },
  {
   "cell_type": "code",
   "execution_count": null,
   "id": "65afbe36",
   "metadata": {},
   "outputs": [],
   "source": [
    "question_code[0].text"
   ]
  },
  {
   "cell_type": "code",
   "execution_count": null,
   "id": "8afdf622",
   "metadata": {
    "scrolled": true
   },
   "outputs": [],
   "source": [
    "question_code[0].find_next_sibling().find_all('li')"
   ]
  },
  {
   "cell_type": "code",
   "execution_count": null,
   "id": "2066bac1",
   "metadata": {},
   "outputs": [],
   "source": [
    "option= []\n",
    "for i in question_code:\n",
    "    x = i.find_next_sibling().find_all('li')\n",
    "    x = [option.text for option in x]\n",
    "    option.append(x)"
   ]
  },
  {
   "cell_type": "code",
   "execution_count": null,
   "id": "9c7ee328",
   "metadata": {},
   "outputs": [],
   "source": [
    "options = []\n",
    "for i in option:\n",
    "    op = []\n",
    "    for x in i:\n",
    "        op.append(x.replace(\"'\",\"''\"))\n",
    "    options.append(op)"
   ]
  },
  {
   "cell_type": "code",
   "execution_count": null,
   "id": "25d9fe36",
   "metadata": {},
   "outputs": [],
   "source": [
    "question_code = [text.text.replace(\"'\",\"''\") for text in question_code]"
   ]
  },
  {
   "cell_type": "code",
   "execution_count": null,
   "id": "74705d7d",
   "metadata": {},
   "outputs": [],
   "source": [
    "answer = data[0].find_all('h4')"
   ]
  },
  {
   "cell_type": "code",
   "execution_count": null,
   "id": "faebbf17",
   "metadata": {},
   "outputs": [],
   "source": [
    "answer = [i.text.replace('Answer: ','') for i in answer]"
   ]
  },
  {
   "cell_type": "code",
   "execution_count": null,
   "id": "0ecc776e",
   "metadata": {},
   "outputs": [],
   "source": [
    "char_to_num = {'A': '0', 'B': '1', 'C': '2', 'D': '3'}"
   ]
  },
  {
   "cell_type": "code",
   "execution_count": null,
   "id": "c508dff0",
   "metadata": {},
   "outputs": [],
   "source": [
    "converted_list = [char_to_num[char] for char in answer]\n",
    "converted_list"
   ]
  },
  {
   "cell_type": "code",
   "execution_count": null,
   "id": "2c4dd7da",
   "metadata": {},
   "outputs": [],
   "source": [
    "answer = converted_list"
   ]
  },
  {
   "cell_type": "code",
   "execution_count": null,
   "id": "ae4c315a",
   "metadata": {},
   "outputs": [],
   "source": [
    "# explanation\n",
    "text_list = []\n",
    "# 遍历所有 <details> 标签\n",
    "for details in data[0].find_all('details'):\n",
    "    # 在 <details> 内找到第一个 <h4> 标签\n",
    "    h4_tag = details.find('h4')\n",
    "\n",
    "    # 检查是否找到了 <h4> 标签\n",
    "    if h4_tag:\n",
    "        # 找到 <h4> 标签之后的所有元素，直到遇到下一个 <details> 标签\n",
    "        text = ''\n",
    "        for sibling in h4_tag.next_siblings:\n",
    "            if sibling.name == 'details':\n",
    "                break\n",
    "            text += sibling.get_text()\n",
    "\n",
    "        # 将合并后的文本添加到列表中\n",
    "        text_list.append(text)\n",
    "\n",
    "# 现在 text_list 包含了每个 <details> 下的 <h4> 后的所有文本\n",
    "print(text_list)"
   ]
  },
  {
   "cell_type": "code",
   "execution_count": null,
   "id": "2d876c0e",
   "metadata": {},
   "outputs": [],
   "source": [
    "\n",
    "text_list = [text.replace(\"'\",\"''\") for text in text_list]\n",
    "len(text_list)"
   ]
  },
  {
   "cell_type": "code",
   "execution_count": null,
   "id": "1df266cd",
   "metadata": {},
   "outputs": [],
   "source": [
    "for i in range(len(options)):\n",
    "    while len(options[i]) < 4:\n",
    "        options[i].append('')"
   ]
  },
  {
   "cell_type": "code",
   "execution_count": null,
   "id": "cf72bd82",
   "metadata": {},
   "outputs": [],
   "source": [
    "questionData = []\n",
    "for i in range(155):\n",
    "    a={\n",
    "        \"question\":question[i],\n",
    "        \"code\":question_code[i],\n",
    "        \"option\":options[i],\n",
    "        \"answer\":answer[i],\n",
    "        \"type\":\"js\",\n",
    "        \"explanation\":text_list[i]\n",
    "    }\n",
    "    questionData.append(a)"
   ]
  },
  {
   "cell_type": "code",
   "execution_count": null,
   "id": "6645ff32",
   "metadata": {},
   "outputs": [],
   "source": [
    "del questionData[5]"
   ]
  },
  {
   "cell_type": "code",
   "execution_count": null,
   "id": "95e6b0d3",
   "metadata": {},
   "outputs": [],
   "source": [
    "del questionData[11]"
   ]
  },
  {
   "cell_type": "code",
   "execution_count": null,
   "id": "218bd5d6",
   "metadata": {},
   "outputs": [],
   "source": [
    "del questionData[11]"
   ]
  },
  {
   "cell_type": "code",
   "execution_count": null,
   "id": "95ddeec9",
   "metadata": {},
   "outputs": [],
   "source": [
    "import pickle\n",
    "\n",
    "# 假设 questionData 是你想要保存的列表\n",
    "\n",
    "\n",
    "# 将列表保存到文件\n",
    "with open('questionData.pkl', 'wb') as file:\n",
    "    pickle.dump(questionData, file)\n"
   ]
  },
  {
   "cell_type": "code",
   "execution_count": null,
   "id": "ef51e56b",
   "metadata": {},
   "outputs": [],
   "source": []
  }
 ],
 "metadata": {
  "kernelspec": {
   "display_name": "Python 3 (ipykernel)",
   "language": "python",
   "name": "python3"
  },
  "language_info": {
   "codemirror_mode": {
    "name": "ipython",
    "version": 3
   },
   "file_extension": ".py",
   "mimetype": "text/x-python",
   "name": "python",
   "nbconvert_exporter": "python",
   "pygments_lexer": "ipython3",
   "version": "3.11.2"
  }
 },
 "nbformat": 4,
 "nbformat_minor": 5
}
